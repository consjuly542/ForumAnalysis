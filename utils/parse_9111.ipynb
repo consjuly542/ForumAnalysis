{
 "cells": [
  {
   "cell_type": "code",
   "execution_count": 1,
   "metadata": {
    "collapsed": false
   },
   "outputs": [],
   "source": [
    "# -*- coding: utf-8 -*-\n",
    "import codecs\n",
    "from lxml import html, etree\n",
    "import string\n",
    "import time\n",
    "import json\n",
    "from datetime import datetime\n",
    "import sys\n",
    "import re\n",
    "from w3lib.html import remove_tags\n",
    "\n",
    "import os\n",
    "from os import listdir\n",
    "from os.path import isfile, join\n",
    "import rarfile\n",
    "import re"
   ]
  },
  {
   "cell_type": "code",
   "execution_count": 2,
   "metadata": {
    "collapsed": true
   },
   "outputs": [],
   "source": [
    "def time_str():\n",
    "    return ('%s' % datetime.now().replace(microsecond=0)).replace(' ','_')"
   ]
  },
  {
   "cell_type": "code",
   "execution_count": 3,
   "metadata": {
    "collapsed": true
   },
   "outputs": [],
   "source": [
    "class Question:\n",
    "    def __init__(self):\n",
    "        self.date = \"0000.00.00\"\n",
    "        self.answers_count = -1\n",
    "        self.views_count = -1\n",
    "        self.question_title = \"No text\"\n",
    "        self.question_full = \"No text\"\n",
    "        self.question_href_ref = []\n",
    "        self.question_href_txt = []\n",
    "        self.region = \"Not stated\"\n",
    "        self.answers_href_ref = []\n",
    "        self.answers_href_txt = []\n",
    "        self.themes_list = []\n",
    "        self.answers = []\n",
    "        self.questionID = \"\"\n",
    "    def toJsonDump(self):\n",
    "        return json.dumps(self, default=lambda o: o.__dict__, \n",
    "                          sort_keys=True, indent=4).encode('utf8')\n",
    "    def toDict(self):\n",
    "        return self.__dict__"
   ]
  },
  {
   "cell_type": "code",
   "execution_count": 4,
   "metadata": {
    "collapsed": false
   },
   "outputs": [],
   "source": [
    "def make_question_card(text):                                                           \n",
    "    tree = html.fromstring(text)\n",
    "\n",
    "    region_txt = tree.xpath('//div[@class = \"info-statistik\"]/text()')\n",
    "    region = region_txt[0].translate(trantab)[:-1].replace('\\xa0', '')\n",
    "\n",
    "    question_title = tree.xpath('//h1[@class = \"q-main__body-title\"]/text()')[0]\n",
    "\n",
    "    question_main_body_href_txt = tree.xpath('//div[@class = \"q-main__body\"]/p/a/text()')\n",
    "    \n",
    "    question_main_body_href_ref = tree.xpath('//div[@class = \"q-main__body\"]/p/a/@href')\n",
    "        \n",
    "    question_html = tree.xpath('//div[@class = \"q-main__body\"]')\n",
    "    question_txt = \"\"\n",
    "    for q_html in question_html:\n",
    "        r = remove_tags(etree.tostring(q_html, encoding='utf-8')).replace('&#13;', '')\n",
    "        question_txt = question_txt + r.translate(trantab)\n",
    "    \n",
    "    views_txt = tree.xpath('//div[@class = \"info__q-number\"]/div[@class = \"info-statistik\"]/text()')\n",
    "    views = ''\n",
    "    if(views_txt != []):\n",
    "        views = [int(s) for s in views_txt[0].split() if s.isdigit()][0]\n",
    "\n",
    "    ur_ans_txt = tree.xpath('//h2[@class = \"ur_ans\"]/text()')\n",
    "    ur_ans = [int(s) for s in ur_ans_txt[0].split() if s.isdigit()][0]\n",
    "\n",
    "    answers_html = tree.xpath('//div[@class = \"a-main__body-txt\"][@itemprop = \"text\"]/p')\n",
    "    answers_txt = []\n",
    "    for ans_html in answers_html:\n",
    "        r = remove_tags(etree.tostring(ans_html, encoding='utf-8')).replace('&#13;', '')\n",
    "        answers_txt.append(r.translate(trantab))\n",
    "    \n",
    "    answers_href_txt = tree.xpath('//div[@class = \"a-main__body-txt\"][@itemprop = \"text\"]/p/a/text()')\n",
    "\n",
    "    answers_href_ref = tree.xpath('//div[@class = \"a-main__body-txt\"][@itemprop = \"text\"]/p/a/@href') \n",
    "\n",
    "    theme = tree.xpath('//span[@class = \"breadcrumbs-link breadcrumbs-link__text\"]/text()')    \n",
    "    \n",
    "    #print(\"region: \", region)\n",
    "    #print(\"question_title: \", question_title)\n",
    "    #print(\"question_main_body: \", question_main_body)\n",
    "    #print(\"views: \", views)\n",
    "    #print(\"urist_ans: \", ur_ans)\n",
    "    #print(\"answers: \", answers)\n",
    "    #print(\"answers_href_txt: \", answers_href_txt)\n",
    "    #print(\"answers_href_ref: \", answers_href_ref)\n",
    "    #print(\"theme\", theme[1:])\n",
    "    \n",
    "    q = Question()\n",
    "    q.region = region\n",
    "    q.question_title = question_title\n",
    "    q.question_full = question_txt\n",
    "    q.question_href_ref = question_main_body_href_ref\n",
    "    q.question_href_txt = question_main_body_href_txt\n",
    "    q.views_count = views\n",
    "    q.answers_count = ur_ans\n",
    "    q.answers_href_txt = answers_href_ref\n",
    "    q.answers_href_ref = answers_href_txt\n",
    "    q.themes_list = theme[1:]\n",
    "    q.answers = answers_txt\n",
    "    \n",
    "    return q"
   ]
  },
  {
   "cell_type": "code",
   "execution_count": null,
   "metadata": {
    "collapsed": false,
    "scrolled": false
   },
   "outputs": [
    {
     "name": "stdout",
     "output_type": "stream",
     "text": [
      "2017-07-12_17:24:58\n",
      "2017_3/2017_3_10_8/q12264075.txt 0 2017-07-12_17:27:40\n",
      "2017_3/2017_3_12_10/q12270900.txt 1 2017-07-12_17:31:28\n",
      "2017_3/2017_3_13_12/q12276911.txt 2 2017-07-12_17:35:30\n",
      "2017_3/2017_3_13_6/q12278526.txt 3 2017-07-12_17:39:43\n"
     ]
    }
   ],
   "source": [
    "#path = 'X:\\DUP\\НРСП\\EXCHANGE\\LegalForumData\\9111\\\\2017_7'\n",
    "dirpath = './9111'\n",
    "xpath= './tmp.txt'\n",
    "\n",
    "answers_list = []\n",
    "i = 0\n",
    "j = 0\n",
    "print(time_str())\n",
    "\n",
    "trantab = str.maketrans(dict.fromkeys('\\n\\r\\t'))\n",
    "\n",
    "for rar in os.listdir(dirpath):\n",
    "    filepath = os.path.join(dirpath, rar)\n",
    "    with rarfile.RarFile(filepath) as opened_rar:\n",
    "        for f in opened_rar.infolist():\n",
    "        #f = opened_rar.infolist()[0]\n",
    "            if(f.filename.count('/') == 2):\n",
    "                text = opened_rar.read(f, 'r')\n",
    "                out = codecs.open(xpath, \"wb\")\n",
    "                out.write(text)\n",
    "                out.close()\n",
    "                text = codecs.open(xpath, \"r\", \"utf-8\").read()\n",
    "                q = make_question_card(text)\n",
    "                q.date = re.search( r'(\\d{4}_\\d+_\\d+)', f.filename).group(1)\n",
    "                q.questionID = re.search( r'(q\\d+)', f.filename).group(1)\n",
    "                answers_list.append(q.toDict())\n",
    "                #print(q.toDict())\n",
    "                i = i + 1\n",
    "                if(i == 2000):\n",
    "                    print(f.filename, j, time_str())\n",
    "                    with open('data'+str(j), 'w') as outfile:\n",
    "                        json.dump(answers_list, outfile)\n",
    "                    i = 0\n",
    "                    j = j + 1\n",
    "                    answers_list = []"
   ]
  },
  {
   "cell_type": "code",
   "execution_count": 8,
   "metadata": {
    "collapsed": false
   },
   "outputs": [],
   "source": [
    "with open(\"data0\") as input_file:\n",
    "    data = json.load(input_file)"
   ]
  }
 ],
 "metadata": {
  "anaconda-cloud": {},
  "kernelspec": {
   "display_name": "Python [default]",
   "language": "python",
   "name": "python3"
  },
  "language_info": {
   "codemirror_mode": {
    "name": "ipython",
    "version": 3
   },
   "file_extension": ".py",
   "mimetype": "text/x-python",
   "name": "python",
   "nbconvert_exporter": "python",
   "pygments_lexer": "ipython3",
   "version": "3.5.2"
  }
 },
 "nbformat": 4,
 "nbformat_minor": 1
}
