{
 "cells": [
  {
   "cell_type": "code",
   "execution_count": 1,
   "metadata": {
    "collapsed": true
   },
   "outputs": [],
   "source": [
    "class Article:\n",
    "\n",
    "    def __init__(self):\n",
    "        self.law = \"None\"\n",
    "        self.article = \"None\"\n",
    "        self.article_num = \"None\"\n",
    "        self.law_num = \"None\"\n",
    "        self.flaw_num = \"None\"\n",
    "        self.chapter_num = \"None\"\n",
    "        self.date = \"0000.00.00\"\n",
    "        self.edit_date = \"0000.00.00\"\n",
    "        self.law_ID = \"None\"\n",
    "        self.article_ID = \"None\"\n",
    "        self.article_link = \"None\"\n",
    "\n",
    "    def to_dict(self):\n",
    "        return self.__dict__\n"
   ]
  },
  {
   "cell_type": "code",
   "execution_count": null,
   "metadata": {
    "collapsed": true
   },
   "outputs": [],
   "source": []
  }
 ],
 "metadata": {
  "kernelspec": {
   "display_name": "Python 3",
   "language": "python",
   "name": "python3"
  },
  "language_info": {
   "codemirror_mode": {
    "name": "ipython",
    "version": 3
   },
   "file_extension": ".py",
   "mimetype": "text/x-python",
   "name": "python",
   "nbconvert_exporter": "python",
   "pygments_lexer": "ipython3",
   "version": "3.6.1"
  }
 },
 "nbformat": 4,
 "nbformat_minor": 2
}
